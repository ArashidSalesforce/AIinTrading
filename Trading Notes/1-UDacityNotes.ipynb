{
 "cells": [
  {
   "cell_type": "code",
   "execution_count": 3,
   "id": "ab0b9847-ad18-4c22-a9aa-30ec97126c5b",
   "metadata": {},
   "outputs": [
    {
     "name": "stdout",
     "output_type": "stream",
     "text": [
      "90.0\n"
     ]
    }
   ],
   "source": [
    "x = 4+5+1 +5+1 +15+1+ 4.5+7+1+ 15+2+1 +10.5 +16+1 \n",
    "print(x)"
   ]
  },
  {
   "cell_type": "code",
   "execution_count": 5,
   "id": "33150f17-4868-4b16-b443-337b65cfa016",
   "metadata": {},
   "outputs": [
    {
     "name": "stdout",
     "output_type": "stream",
     "text": [
      "3.0\n"
     ]
    }
   ],
   "source": [
    "print(90/30)"
   ]
  },
  {
   "cell_type": "code",
   "execution_count": 7,
   "id": "ccacc628-35f7-4330-9786-ff1ae9bd3666",
   "metadata": {},
   "outputs": [
    {
     "name": "stdout",
     "output_type": "stream",
     "text": [
      "2.0\n"
     ]
    }
   ],
   "source": [
    "print(90/45)"
   ]
  },
  {
   "cell_type": "code",
   "execution_count": 9,
   "id": "e887d569-db53-41ac-951e-7852a28d0d21",
   "metadata": {},
   "outputs": [
    {
     "name": "stdout",
     "output_type": "stream",
     "text": [
      "   values  log_values  log_diff\n",
      "0  -0.473         NaN       NaN\n",
      "1   0.076   -2.577022       NaN\n",
      "2  -0.084         NaN       NaN\n",
      "3   0.017   -4.074542       NaN\n",
      "4   0.060   -2.813411  1.261131\n",
      "5   0.027   -3.611918 -0.798508\n",
      "6   0.052   -2.956512  0.655407\n",
      "7   0.104   -2.263364  0.693147\n",
      "8   0.053   -2.937463 -0.674099\n",
      "9   0.011   -4.509860 -1.572397\n"
     ]
    },
    {
     "name": "stderr",
     "output_type": "stream",
     "text": [
      "C:\\Users\\abdul\\anaconda3\\Lib\\site-packages\\pandas\\core\\arraylike.py:399: RuntimeWarning: invalid value encountered in log\n",
      "  result = getattr(ufunc, method)(*inputs, **kwargs)\n"
     ]
    }
   ],
   "source": [
    "import pandas as pd\n",
    "import numpy as np\n",
    "\n",
    "def compute_log_diff(df, column_name):\n",
    "    # Calculate the natural log of the specified column\n",
    "    df['log_' + column_name] = np.log(df[column_name])\n",
    "    # Calculate the difference between consecutive log values\n",
    "    df['log_diff'] = df['log_' + column_name].diff()\n",
    "    return df\n",
    "\n",
    "# Example usage\n",
    "data = {'values': [-0.473, 0.076, -0.084 , 0.017 , 0.060, 0.027, 0.052, 0.104, 0.053, 0.011]}\n",
    "df = pd.DataFrame(data)\n",
    "result_df = compute_log_diff(df, 'values')\n",
    "print(result_df)\n"
   ]
  },
  {
   "cell_type": "code",
   "execution_count": 11,
   "id": "1658b4ef-e1ad-426b-a14b-455b109f28d1",
   "metadata": {},
   "outputs": [
    {
     "name": "stdout",
     "output_type": "stream",
     "text": [
      "Stocks to short:\n",
      "  Stock  Momentum\n",
      "2  AMZN -0.084410\n",
      "0  GOOG -0.047328\n",
      "9     M  0.011036\n"
     ]
    }
   ],
   "source": [
    "import pandas as pd\n",
    "\n",
    "# Define the momentum data\n",
    "data = {\n",
    "    \"Stock\": [\"GOOG\", \"AAPL\", \"AMZN\", \"IBM\", \"BBBY\", \"NFLX\", \"MSFT\", \"TGT\", \"K\", \"M\"],\n",
    "    \"Momentum\": [-0.047328, 0.076627, -0.084410, 0.017652, 0.060648, 0.027967, 0.052058, 0.104326, 0.053881, 0.011036]\n",
    "}\n",
    "\n",
    "# Create a DataFrame\n",
    "momentum_df = pd.DataFrame(data)\n",
    "\n",
    "# Sort the DataFrame by Momentum values\n",
    "momentum_df = momentum_df.sort_values(by='Momentum')\n",
    "\n",
    "# Select the bottom 3 stocks to short\n",
    "stocks_to_short = momentum_df.head(3)\n",
    "\n",
    "print(\"Stocks to short:\")\n",
    "print(stocks_to_short)\n",
    "\n"
   ]
  },
  {
   "cell_type": "code",
   "execution_count": 17,
   "id": "58b40686-2eb3-402f-8ded-37b77bf94fb4",
   "metadata": {},
   "outputs": [
    {
     "name": "stdout",
     "output_type": "stream",
     "text": [
      "<class 'pandas.core.frame.DataFrame'>\n",
      "{'Team', 'College', 'Age', 'Weight', 'Position', 'Salary', 'Height', 'Number', 'Name'}\n"
     ]
    },
    {
     "data": {
      "text/html": [
       "<div>\n",
       "<style scoped>\n",
       "    .dataframe tbody tr th:only-of-type {\n",
       "        vertical-align: middle;\n",
       "    }\n",
       "\n",
       "    .dataframe tbody tr th {\n",
       "        vertical-align: top;\n",
       "    }\n",
       "\n",
       "    .dataframe thead th {\n",
       "        text-align: right;\n",
       "    }\n",
       "</style>\n",
       "<table border=\"1\" class=\"dataframe\">\n",
       "  <thead>\n",
       "    <tr style=\"text-align: right;\">\n",
       "      <th></th>\n",
       "      <th>Name</th>\n",
       "      <th>Team</th>\n",
       "      <th>Number</th>\n",
       "      <th>Position</th>\n",
       "      <th>Age</th>\n",
       "      <th>Height</th>\n",
       "      <th>Weight</th>\n",
       "      <th>College</th>\n",
       "      <th>Salary</th>\n",
       "    </tr>\n",
       "  </thead>\n",
       "  <tbody>\n",
       "    <tr>\n",
       "      <th>0</th>\n",
       "      <td>Avery Bradley</td>\n",
       "      <td>Boston Celtics</td>\n",
       "      <td>0.0</td>\n",
       "      <td>PG</td>\n",
       "      <td>25.0</td>\n",
       "      <td>6-2</td>\n",
       "      <td>180.0</td>\n",
       "      <td>Texas</td>\n",
       "      <td>7730337.0</td>\n",
       "    </tr>\n",
       "    <tr>\n",
       "      <th>1</th>\n",
       "      <td>Jae Crowder</td>\n",
       "      <td>Boston Celtics</td>\n",
       "      <td>99.0</td>\n",
       "      <td>SF</td>\n",
       "      <td>25.0</td>\n",
       "      <td>6-6</td>\n",
       "      <td>235.0</td>\n",
       "      <td>Marquette</td>\n",
       "      <td>6796117.0</td>\n",
       "    </tr>\n",
       "    <tr>\n",
       "      <th>2</th>\n",
       "      <td>John Holland</td>\n",
       "      <td>Boston Celtics</td>\n",
       "      <td>30.0</td>\n",
       "      <td>SG</td>\n",
       "      <td>27.0</td>\n",
       "      <td>6-5</td>\n",
       "      <td>205.0</td>\n",
       "      <td>Boston University</td>\n",
       "      <td>NaN</td>\n",
       "    </tr>\n",
       "    <tr>\n",
       "      <th>3</th>\n",
       "      <td>R.J. Hunter</td>\n",
       "      <td>Boston Celtics</td>\n",
       "      <td>28.0</td>\n",
       "      <td>SG</td>\n",
       "      <td>22.0</td>\n",
       "      <td>6-5</td>\n",
       "      <td>185.0</td>\n",
       "      <td>Georgia State</td>\n",
       "      <td>1148640.0</td>\n",
       "    </tr>\n",
       "    <tr>\n",
       "      <th>4</th>\n",
       "      <td>Jonas Jerebko</td>\n",
       "      <td>Boston Celtics</td>\n",
       "      <td>8.0</td>\n",
       "      <td>PF</td>\n",
       "      <td>29.0</td>\n",
       "      <td>6-10</td>\n",
       "      <td>231.0</td>\n",
       "      <td>NaN</td>\n",
       "      <td>5000000.0</td>\n",
       "    </tr>\n",
       "  </tbody>\n",
       "</table>\n",
       "</div>"
      ],
      "text/plain": [
       "            Name            Team  Number Position   Age Height  Weight  \\\n",
       "0  Avery Bradley  Boston Celtics     0.0       PG  25.0    6-2   180.0   \n",
       "1    Jae Crowder  Boston Celtics    99.0       SF  25.0    6-6   235.0   \n",
       "2   John Holland  Boston Celtics    30.0       SG  27.0    6-5   205.0   \n",
       "3    R.J. Hunter  Boston Celtics    28.0       SG  22.0    6-5   185.0   \n",
       "4  Jonas Jerebko  Boston Celtics     8.0       PF  29.0   6-10   231.0   \n",
       "\n",
       "             College     Salary  \n",
       "0              Texas  7730337.0  \n",
       "1          Marquette  6796117.0  \n",
       "2  Boston University        NaN  \n",
       "3      Georgia State  1148640.0  \n",
       "4                NaN  5000000.0  "
      ]
     },
     "execution_count": 17,
     "metadata": {},
     "output_type": "execute_result"
    }
   ],
   "source": [
    "# Import pandas package \n",
    "import pandas as pd \n",
    "    \n",
    "# making data frame \n",
    "data = pd.read_csv(\"https://media.geeksforgeeks.org/wp-content/uploads/nba.csv\") \n",
    "    \n",
    "# calling head() method  \n",
    "# storing in new variable \n",
    "data_top = data.head() \n",
    "\n",
    "print(type(data_top))\n",
    "print(set(data_top.head()))\n",
    "    \n",
    "# display \n",
    "data_top "
   ]
  },
  {
   "cell_type": "code",
   "execution_count": 19,
   "id": "ec0fc137-bff9-442d-8254-69a86b193a24",
   "metadata": {},
   "outputs": [
    {
     "data": {
      "text/plain": [
       "['Scenario 1 (mean = 0.2%, p-value = 0.0049)',\n",
       " 'Scenario 4 (mean = 4%, p-value = 0.034)',\n",
       " 'Scenario 5 (mean = -0.5%, p-value = 0.046)']"
      ]
     },
     "execution_count": 19,
     "metadata": {},
     "output_type": "execute_result"
    }
   ],
   "source": [
    "# Define the test scenarios\n",
    "scenarios = [\n",
    "    {\"mean\": 0.2, \"p_value\": 0.0049},\n",
    "    {\"mean\": 6, \"p_value\": 0.5},\n",
    "    {\"mean\": 2, \"p_value\": 0.15},\n",
    "    {\"mean\": 4, \"p_value\": 0.034},\n",
    "    {\"mean\": -0.5, \"p_value\": 0.046}\n",
    "]\n",
    "\n",
    "# Significance level\n",
    "alpha = 0.05\n",
    "\n",
    "# Check which scenarios reject the null hypothesis\n",
    "results = []\n",
    "for i, scenario in enumerate(scenarios):\n",
    "    if scenario[\"p_value\"] <= alpha:\n",
    "        results.append(f\"Scenario {i+1} (mean = {scenario['mean']}%, p-value = {scenario['p_value']})\")\n",
    "\n",
    "# Output results\n",
    "results\n"
   ]
  },
  {
   "cell_type": "code",
   "execution_count": null,
   "id": "4ebfdd68-9a94-4d0b-aa82-1cced65414d9",
   "metadata": {},
   "outputs": [],
   "source": []
  }
 ],
 "metadata": {
  "kernelspec": {
   "display_name": "Python 3 (ipykernel)",
   "language": "python",
   "name": "python3"
  },
  "language_info": {
   "codemirror_mode": {
    "name": "ipython",
    "version": 3
   },
   "file_extension": ".py",
   "mimetype": "text/x-python",
   "name": "python",
   "nbconvert_exporter": "python",
   "pygments_lexer": "ipython3",
   "version": "3.12.3"
  }
 },
 "nbformat": 4,
 "nbformat_minor": 5
}
